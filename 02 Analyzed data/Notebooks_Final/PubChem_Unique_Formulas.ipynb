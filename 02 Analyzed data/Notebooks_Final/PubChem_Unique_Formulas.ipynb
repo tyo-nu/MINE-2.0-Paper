{
 "cells": [
  {
   "cell_type": "markdown",
   "metadata": {},
   "source": [
    "# Calculate # Unique Chemical Formulas in PubChem"
   ]
  },
  {
   "cell_type": "code",
   "execution_count": 28,
   "metadata": {},
   "outputs": [],
   "source": [
    "from rdkit.Chem.AllChem import MolFromSmiles\n",
    "from minedatabase.utils import neutralise_charges\n",
    "from rdkit.Chem.rdMolDescriptors import CalcMolFormula\n",
    "from multiprocessing import Pool\n",
    "from itertools import islice\n",
    "from rdkit import RDLogger"
   ]
  },
  {
   "cell_type": "code",
   "execution_count": 29,
   "metadata": {},
   "outputs": [],
   "source": [
    "RDLogger.DisableLog('rdApp.*')"
   ]
  },
  {
   "cell_type": "code",
   "execution_count": 30,
   "metadata": {},
   "outputs": [],
   "source": [
    "pubchem_datafile = './../Data/CID-SMILES'"
   ]
  },
  {
   "cell_type": "code",
   "execution_count": 31,
   "metadata": {},
   "outputs": [],
   "source": [
    "def dataline_to_formula(line):\n",
    "    smiles = line.split('\\t')[1]\n",
    "    mol = MolFromSmiles(smiles)\n",
    "    if not mol:\n",
    "        return None\n",
    "    formula = CalcMolFormula(mol)\n",
    "    if '+' in formula or '-' in formula:\n",
    "        return None  # only want neutral molecules\n",
    "    return formula"
   ]
  },
  {
   "cell_type": "code",
   "execution_count": 35,
   "metadata": {},
   "outputs": [],
   "source": [
    "formulas = set()"
   ]
  },
  {
   "cell_type": "code",
   "execution_count": 39,
   "metadata": {
    "scrolled": true
   },
   "outputs": [
    {
     "name": "stdout",
     "output_type": "stream",
     "text": [
      "Processing...\n",
      "Processing...\n",
      "Processing...\n",
      "Processing...\n",
      "Processing...\n",
      "Processing...\n",
      "Processing...\n",
      "Processing...\n",
      "Processing...\n",
      "Processing...\n",
      "Processing...\n",
      "Processing...\n",
      "Processing...\n",
      "Processing...\n",
      "Processing...\n",
      "Processing...\n",
      "Processing...\n",
      "Processing...\n",
      "Processing...\n",
      "Processing...\n",
      "Processing...\n",
      "Processing...\n",
      "Processing...\n"
     ]
    }
   ],
   "source": [
    "n = 5000000\n",
    "with open(pubchem_datafile, 'r') as infile:\n",
    "    while True:\n",
    "        print('Processing...')\n",
    "        next_n_lines = list(islice(infile, n))\n",
    "        if not next_n_lines:\n",
    "            break\n",
    "\n",
    "        with Pool() as p:\n",
    "            formulas = formulas.union(set(p.map(dataline_to_formula, next_n_lines)))"
   ]
  },
  {
   "cell_type": "code",
   "execution_count": 40,
   "metadata": {},
   "outputs": [
    {
     "data": {
      "text/plain": [
       "4253738"
      ]
     },
     "execution_count": 40,
     "metadata": {},
     "output_type": "execute_result"
    }
   ],
   "source": [
    "len(formulas) - 1  # 1 of the formulas in the set is \"None\""
   ]
  },
  {
   "cell_type": "code",
   "execution_count": null,
   "metadata": {},
   "outputs": [],
   "source": []
  }
 ],
 "metadata": {
  "kernelspec": {
   "display_name": "Python (mine3)",
   "language": "python",
   "name": "mine3"
  },
  "language_info": {
   "codemirror_mode": {
    "name": "ipython",
    "version": 3
   },
   "file_extension": ".py",
   "mimetype": "text/x-python",
   "name": "python",
   "nbconvert_exporter": "python",
   "pygments_lexer": "ipython3",
   "version": "3.9.7"
  }
 },
 "nbformat": 4,
 "nbformat_minor": 2
}
