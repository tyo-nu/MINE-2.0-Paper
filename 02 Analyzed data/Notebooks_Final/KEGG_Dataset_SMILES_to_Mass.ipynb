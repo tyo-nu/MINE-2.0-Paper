{
 "cells": [
  {
   "cell_type": "markdown",
   "metadata": {},
   "source": [
    "# Take list of all KEGG compound SMILES and calculate exact mass for each"
   ]
  },
  {
   "cell_type": "code",
   "execution_count": 43,
   "metadata": {},
   "outputs": [],
   "source": [
    "import pandas as pd\n",
    "import numpy as np\n",
    "from minedatabase.utils import neutralise_charges\n",
    "from rdkit.Chem.AllChem import SanitizeMol, MolFromSmiles, MolToInchiKey\n",
    "from rdkit.Chem.Descriptors import ExactMolWt"
   ]
  },
  {
   "cell_type": "code",
   "execution_count": 33,
   "metadata": {},
   "outputs": [],
   "source": [
    "DATA_FILEPATH = './../Data/kegg.csv'\n",
    "OUT_FILEPATH = './../Data/kegg_mass.csv'"
   ]
  },
  {
   "cell_type": "code",
   "execution_count": 58,
   "metadata": {},
   "outputs": [],
   "source": [
    "df = pd.read_csv(DATA_FILEPATH)"
   ]
  },
  {
   "cell_type": "code",
   "execution_count": 59,
   "metadata": {},
   "outputs": [
    {
     "data": {
      "text/html": [
       "<div>\n",
       "<style scoped>\n",
       "    .dataframe tbody tr th:only-of-type {\n",
       "        vertical-align: middle;\n",
       "    }\n",
       "\n",
       "    .dataframe tbody tr th {\n",
       "        vertical-align: top;\n",
       "    }\n",
       "\n",
       "    .dataframe thead th {\n",
       "        text-align: right;\n",
       "    }\n",
       "</style>\n",
       "<table border=\"1\" class=\"dataframe\">\n",
       "  <thead>\n",
       "    <tr style=\"text-align: right;\">\n",
       "      <th></th>\n",
       "      <th>ID</th>\n",
       "      <th>SMILES</th>\n",
       "    </tr>\n",
       "  </thead>\n",
       "  <tbody>\n",
       "    <tr>\n",
       "      <th>0</th>\n",
       "      <td>C00001</td>\n",
       "      <td>O</td>\n",
       "    </tr>\n",
       "    <tr>\n",
       "      <th>1</th>\n",
       "      <td>C00002</td>\n",
       "      <td>Nc1ncnc2c1ncn2[C@@H]1O[C@H](COP(=O)(O)OP(=O)(O...</td>\n",
       "    </tr>\n",
       "    <tr>\n",
       "      <th>2</th>\n",
       "      <td>C00003</td>\n",
       "      <td>NC(=O)c1ccc[n+]([C@@H]2O[C@H](COP(=O)(O)OP(=O)...</td>\n",
       "    </tr>\n",
       "    <tr>\n",
       "      <th>3</th>\n",
       "      <td>C00004</td>\n",
       "      <td>NC(=O)C1=CN([C@@H]2O[C@H](COP(=O)(O)OP(=O)(O)O...</td>\n",
       "    </tr>\n",
       "    <tr>\n",
       "      <th>4</th>\n",
       "      <td>C00005</td>\n",
       "      <td>NC(=O)C1=CN([C@@H]2O[C@H](COP(=O)(O)OP(=O)(O)O...</td>\n",
       "    </tr>\n",
       "  </tbody>\n",
       "</table>\n",
       "</div>"
      ],
      "text/plain": [
       "       ID                                             SMILES\n",
       "0  C00001                                                  O\n",
       "1  C00002  Nc1ncnc2c1ncn2[C@@H]1O[C@H](COP(=O)(O)OP(=O)(O...\n",
       "2  C00003  NC(=O)c1ccc[n+]([C@@H]2O[C@H](COP(=O)(O)OP(=O)...\n",
       "3  C00004  NC(=O)C1=CN([C@@H]2O[C@H](COP(=O)(O)OP(=O)(O)O...\n",
       "4  C00005  NC(=O)C1=CN([C@@H]2O[C@H](COP(=O)(O)OP(=O)(O)O..."
      ]
     },
     "execution_count": 59,
     "metadata": {},
     "output_type": "execute_result"
    }
   ],
   "source": [
    "df.head()"
   ]
  },
  {
   "cell_type": "code",
   "execution_count": 60,
   "metadata": {},
   "outputs": [
    {
     "data": {
      "text/html": [
       "<div>\n",
       "<style scoped>\n",
       "    .dataframe tbody tr th:only-of-type {\n",
       "        vertical-align: middle;\n",
       "    }\n",
       "\n",
       "    .dataframe tbody tr th {\n",
       "        vertical-align: top;\n",
       "    }\n",
       "\n",
       "    .dataframe thead th {\n",
       "        text-align: right;\n",
       "    }\n",
       "</style>\n",
       "<table border=\"1\" class=\"dataframe\">\n",
       "  <thead>\n",
       "    <tr style=\"text-align: right;\">\n",
       "      <th></th>\n",
       "      <th>ID</th>\n",
       "      <th>SMILES</th>\n",
       "    </tr>\n",
       "  </thead>\n",
       "  <tbody>\n",
       "    <tr>\n",
       "      <th>18617</th>\n",
       "      <td>C22171</td>\n",
       "      <td>Nc1nc2c(ncn2[C@@H]2O[C@H](COP(=O)(O)OP(=O)(O)O...</td>\n",
       "    </tr>\n",
       "    <tr>\n",
       "      <th>18618</th>\n",
       "      <td>C22172</td>\n",
       "      <td>O=C(O)[C@H](O)COP(=O)(O)OC[C@@H](O)[C@@H](O)[C...</td>\n",
       "    </tr>\n",
       "    <tr>\n",
       "      <th>18619</th>\n",
       "      <td>C22173</td>\n",
       "      <td>CC[C@H](CO)[C@H](N)C(=O)O</td>\n",
       "    </tr>\n",
       "    <tr>\n",
       "      <th>18620</th>\n",
       "      <td>C22174</td>\n",
       "      <td>C[C@H](O)[C@H](CO)[C@H](N)C(=O)O</td>\n",
       "    </tr>\n",
       "    <tr>\n",
       "      <th>18621</th>\n",
       "      <td>C22175</td>\n",
       "      <td>COc1cc([C@H]2OC[C@H]3[C@@H]2CO[C@]3(O)c2ccc(O)...</td>\n",
       "    </tr>\n",
       "  </tbody>\n",
       "</table>\n",
       "</div>"
      ],
      "text/plain": [
       "           ID                                             SMILES\n",
       "18617  C22171  Nc1nc2c(ncn2[C@@H]2O[C@H](COP(=O)(O)OP(=O)(O)O...\n",
       "18618  C22172  O=C(O)[C@H](O)COP(=O)(O)OC[C@@H](O)[C@@H](O)[C...\n",
       "18619  C22173                          CC[C@H](CO)[C@H](N)C(=O)O\n",
       "18620  C22174                   C[C@H](O)[C@H](CO)[C@H](N)C(=O)O\n",
       "18621  C22175  COc1cc([C@H]2OC[C@H]3[C@@H]2CO[C@]3(O)c2ccc(O)..."
      ]
     },
     "execution_count": 60,
     "metadata": {},
     "output_type": "execute_result"
    }
   ],
   "source": [
    "df.tail()"
   ]
  },
  {
   "cell_type": "code",
   "execution_count": 61,
   "metadata": {},
   "outputs": [
    {
     "name": "stderr",
     "output_type": "stream",
     "text": [
      "RDKit WARNING: [11:04:54] WARNING: not removing hydrogen atom without neighbors\n"
     ]
    }
   ],
   "source": [
    "n_star = 0\n",
    "n_nan = 0\n",
    "mass_col = []\n",
    "inchikey_col = []\n",
    "for _id, smiles in zip(df.ID, df.SMILES):\n",
    "    if isinstance(smiles, float) and np.isnan(smiles):\n",
    "        n_nan += 1\n",
    "        mass_col.append(np.nan)\n",
    "        inchikey_col.append(np.nan)\n",
    "    elif '*' not in smiles:\n",
    "        mol = MolFromSmiles(smiles)\n",
    "        #mol = neutralise_charges(mol)\n",
    "        mass = ExactMolWt(mol)\n",
    "        inchikey = MolToInchiKey(mol)\n",
    "        mass_col.append(mass)\n",
    "        inchikey_col.append(inchikey)\n",
    "    else:\n",
    "        n_star += 1\n",
    "        mass_col.append(np.nan)\n",
    "        inchikey_col.append(np.nan)"
   ]
  },
  {
   "cell_type": "code",
   "execution_count": 62,
   "metadata": {},
   "outputs": [],
   "source": [
    "df['Monoisotopic_Mass'] = mass_col\n",
    "df['InChI_Key'] = inchikey_col"
   ]
  },
  {
   "cell_type": "code",
   "execution_count": 63,
   "metadata": {},
   "outputs": [
    {
     "data": {
      "text/html": [
       "<div>\n",
       "<style scoped>\n",
       "    .dataframe tbody tr th:only-of-type {\n",
       "        vertical-align: middle;\n",
       "    }\n",
       "\n",
       "    .dataframe tbody tr th {\n",
       "        vertical-align: top;\n",
       "    }\n",
       "\n",
       "    .dataframe thead th {\n",
       "        text-align: right;\n",
       "    }\n",
       "</style>\n",
       "<table border=\"1\" class=\"dataframe\">\n",
       "  <thead>\n",
       "    <tr style=\"text-align: right;\">\n",
       "      <th></th>\n",
       "      <th>ID</th>\n",
       "      <th>SMILES</th>\n",
       "      <th>Monoisotopic_Mass</th>\n",
       "      <th>InChI_Key</th>\n",
       "    </tr>\n",
       "  </thead>\n",
       "  <tbody>\n",
       "    <tr>\n",
       "      <th>0</th>\n",
       "      <td>C00001</td>\n",
       "      <td>O</td>\n",
       "      <td>18.010565</td>\n",
       "      <td>XLYOFNOQVPJJNP-UHFFFAOYSA-N</td>\n",
       "    </tr>\n",
       "    <tr>\n",
       "      <th>1</th>\n",
       "      <td>C00002</td>\n",
       "      <td>Nc1ncnc2c1ncn2[C@@H]1O[C@H](COP(=O)(O)OP(=O)(O...</td>\n",
       "      <td>506.995745</td>\n",
       "      <td>ZKHQWZAMYRWXGA-KQYNXXCUSA-N</td>\n",
       "    </tr>\n",
       "    <tr>\n",
       "      <th>2</th>\n",
       "      <td>C00003</td>\n",
       "      <td>NC(=O)c1ccc[n+]([C@@H]2O[C@H](COP(=O)(O)OP(=O)...</td>\n",
       "      <td>664.116398</td>\n",
       "      <td>BAWFJGJZGIEFAR-NNYOXOHSSA-O</td>\n",
       "    </tr>\n",
       "    <tr>\n",
       "      <th>3</th>\n",
       "      <td>C00004</td>\n",
       "      <td>NC(=O)C1=CN([C@@H]2O[C@H](COP(=O)(O)OP(=O)(O)O...</td>\n",
       "      <td>665.124772</td>\n",
       "      <td>BOPGDPNILDQYTO-NNYOXOHSSA-N</td>\n",
       "    </tr>\n",
       "    <tr>\n",
       "      <th>4</th>\n",
       "      <td>C00005</td>\n",
       "      <td>NC(=O)C1=CN([C@@H]2O[C@H](COP(=O)(O)OP(=O)(O)O...</td>\n",
       "      <td>745.091102</td>\n",
       "      <td>ACFIXJIJDZMPPO-NNYOXOHSSA-N</td>\n",
       "    </tr>\n",
       "  </tbody>\n",
       "</table>\n",
       "</div>"
      ],
      "text/plain": [
       "       ID                                             SMILES  \\\n",
       "0  C00001                                                  O   \n",
       "1  C00002  Nc1ncnc2c1ncn2[C@@H]1O[C@H](COP(=O)(O)OP(=O)(O...   \n",
       "2  C00003  NC(=O)c1ccc[n+]([C@@H]2O[C@H](COP(=O)(O)OP(=O)...   \n",
       "3  C00004  NC(=O)C1=CN([C@@H]2O[C@H](COP(=O)(O)OP(=O)(O)O...   \n",
       "4  C00005  NC(=O)C1=CN([C@@H]2O[C@H](COP(=O)(O)OP(=O)(O)O...   \n",
       "\n",
       "   Monoisotopic_Mass                    InChI_Key  \n",
       "0          18.010565  XLYOFNOQVPJJNP-UHFFFAOYSA-N  \n",
       "1         506.995745  ZKHQWZAMYRWXGA-KQYNXXCUSA-N  \n",
       "2         664.116398  BAWFJGJZGIEFAR-NNYOXOHSSA-O  \n",
       "3         665.124772  BOPGDPNILDQYTO-NNYOXOHSSA-N  \n",
       "4         745.091102  ACFIXJIJDZMPPO-NNYOXOHSSA-N  "
      ]
     },
     "execution_count": 63,
     "metadata": {},
     "output_type": "execute_result"
    }
   ],
   "source": [
    "df.head()"
   ]
  },
  {
   "cell_type": "code",
   "execution_count": 64,
   "metadata": {},
   "outputs": [
    {
     "data": {
      "text/html": [
       "<div>\n",
       "<style scoped>\n",
       "    .dataframe tbody tr th:only-of-type {\n",
       "        vertical-align: middle;\n",
       "    }\n",
       "\n",
       "    .dataframe tbody tr th {\n",
       "        vertical-align: top;\n",
       "    }\n",
       "\n",
       "    .dataframe thead th {\n",
       "        text-align: right;\n",
       "    }\n",
       "</style>\n",
       "<table border=\"1\" class=\"dataframe\">\n",
       "  <thead>\n",
       "    <tr style=\"text-align: right;\">\n",
       "      <th></th>\n",
       "      <th>ID</th>\n",
       "      <th>SMILES</th>\n",
       "      <th>Monoisotopic_Mass</th>\n",
       "      <th>InChI_Key</th>\n",
       "    </tr>\n",
       "  </thead>\n",
       "  <tbody>\n",
       "    <tr>\n",
       "      <th>18617</th>\n",
       "      <td>C22171</td>\n",
       "      <td>Nc1nc2c(ncn2[C@@H]2O[C@H](COP(=O)(O)OP(=O)(O)O...</td>\n",
       "      <td>531.040374</td>\n",
       "      <td>UBONPDGCIQEDRL-QWEIRQIHSA-N</td>\n",
       "    </tr>\n",
       "    <tr>\n",
       "      <th>18618</th>\n",
       "      <td>C22172</td>\n",
       "      <td>O=C(O)[C@H](O)COP(=O)(O)OC[C@@H](O)[C@@H](O)[C...</td>\n",
       "      <td>531.089024</td>\n",
       "      <td>BJMFZLLJDXJPEK-YJNKXOJESA-N</td>\n",
       "    </tr>\n",
       "    <tr>\n",
       "      <th>18619</th>\n",
       "      <td>C22173</td>\n",
       "      <td>CC[C@H](CO)[C@H](N)C(=O)O</td>\n",
       "      <td>147.089543</td>\n",
       "      <td>FBQPPRTWSNHYNZ-UHNVWZDZSA-N</td>\n",
       "    </tr>\n",
       "    <tr>\n",
       "      <th>18620</th>\n",
       "      <td>C22174</td>\n",
       "      <td>C[C@H](O)[C@H](CO)[C@H](N)C(=O)O</td>\n",
       "      <td>163.084458</td>\n",
       "      <td>UBLKCZXWFBWGNA-YUPRTTJUSA-N</td>\n",
       "    </tr>\n",
       "    <tr>\n",
       "      <th>18621</th>\n",
       "      <td>C22175</td>\n",
       "      <td>COc1cc([C@H]2OC[C@H]3[C@@H]2CO[C@]3(O)c2ccc(O)...</td>\n",
       "      <td>374.136553</td>\n",
       "      <td>JGWZMWCBIAYEIJ-AFHBHXEDSA-N</td>\n",
       "    </tr>\n",
       "  </tbody>\n",
       "</table>\n",
       "</div>"
      ],
      "text/plain": [
       "           ID                                             SMILES  \\\n",
       "18617  C22171  Nc1nc2c(ncn2[C@@H]2O[C@H](COP(=O)(O)OP(=O)(O)O...   \n",
       "18618  C22172  O=C(O)[C@H](O)COP(=O)(O)OC[C@@H](O)[C@@H](O)[C...   \n",
       "18619  C22173                          CC[C@H](CO)[C@H](N)C(=O)O   \n",
       "18620  C22174                   C[C@H](O)[C@H](CO)[C@H](N)C(=O)O   \n",
       "18621  C22175  COc1cc([C@H]2OC[C@H]3[C@@H]2CO[C@]3(O)c2ccc(O)...   \n",
       "\n",
       "       Monoisotopic_Mass                    InChI_Key  \n",
       "18617         531.040374  UBONPDGCIQEDRL-QWEIRQIHSA-N  \n",
       "18618         531.089024  BJMFZLLJDXJPEK-YJNKXOJESA-N  \n",
       "18619         147.089543  FBQPPRTWSNHYNZ-UHNVWZDZSA-N  \n",
       "18620         163.084458  UBLKCZXWFBWGNA-YUPRTTJUSA-N  \n",
       "18621         374.136553  JGWZMWCBIAYEIJ-AFHBHXEDSA-N  "
      ]
     },
     "execution_count": 64,
     "metadata": {},
     "output_type": "execute_result"
    }
   ],
   "source": [
    "df.tail()"
   ]
  },
  {
   "cell_type": "code",
   "execution_count": 65,
   "metadata": {},
   "outputs": [],
   "source": [
    "df.to_csv(OUT_FILEPATH, index=False)"
   ]
  },
  {
   "cell_type": "code",
   "execution_count": 66,
   "metadata": {},
   "outputs": [
    {
     "data": {
      "text/plain": [
       "1468"
      ]
     },
     "execution_count": 66,
     "metadata": {},
     "output_type": "execute_result"
    }
   ],
   "source": [
    "n_star"
   ]
  },
  {
   "cell_type": "code",
   "execution_count": 67,
   "metadata": {},
   "outputs": [
    {
     "data": {
      "text/plain": [
       "37"
      ]
     },
     "execution_count": 67,
     "metadata": {},
     "output_type": "execute_result"
    }
   ],
   "source": [
    "n_nan"
   ]
  },
  {
   "cell_type": "code",
   "execution_count": 68,
   "metadata": {},
   "outputs": [
    {
     "data": {
      "text/plain": [
       "18622"
      ]
     },
     "execution_count": 68,
     "metadata": {},
     "output_type": "execute_result"
    }
   ],
   "source": [
    "len(df)"
   ]
  },
  {
   "cell_type": "code",
   "execution_count": 69,
   "metadata": {},
   "outputs": [
    {
     "data": {
      "text/plain": [
       "17117"
      ]
     },
     "execution_count": 69,
     "metadata": {},
     "output_type": "execute_result"
    }
   ],
   "source": [
    "len(df) - n_star - n_nan"
   ]
  },
  {
   "cell_type": "code",
   "execution_count": null,
   "metadata": {},
   "outputs": [],
   "source": []
  }
 ],
 "metadata": {
  "kernelspec": {
   "display_name": "Python (mine3)",
   "language": "python",
   "name": "mine3"
  },
  "language_info": {
   "codemirror_mode": {
    "name": "ipython",
    "version": 3
   },
   "file_extension": ".py",
   "mimetype": "text/x-python",
   "name": "python",
   "nbconvert_exporter": "python",
   "pygments_lexer": "ipython3",
   "version": "3.9.7"
  }
 },
 "nbformat": 4,
 "nbformat_minor": 2
}
